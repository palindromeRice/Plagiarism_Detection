{
  "nbformat": 4,
  "nbformat_minor": 0,
  "metadata": {
    "colab": {
      "provenance": [],
      "mount_file_id": "14m5FDUVqSvsalXlP7UweXSTSdaksINMj",
      "authorship_tag": "ABX9TyN8k9RZGV6NsTy6oC1dKabt",
      "include_colab_link": true
    },
    "kernelspec": {
      "name": "python3",
      "display_name": "Python 3"
    },
    "language_info": {
      "name": "python"
    }
  },
  "cells": [
    {
      "cell_type": "markdown",
      "metadata": {
        "id": "view-in-github",
        "colab_type": "text"
      },
      "source": [
        "<a href=\"https://colab.research.google.com/github/palindromeRice/Plagiarism_Detection/blob/JPlag/JPlag_Automation_1.ipynb\" target=\"_parent\"><img src=\"https://colab.research.google.com/assets/colab-badge.svg\" alt=\"Open In Colab\"/></a>"
      ]
    },
    {
      "cell_type": "code",
      "execution_count": 1,
      "metadata": {
        "colab": {
          "base_uri": "https://localhost:8080/"
        },
        "id": "VeTmU7_PVDwv",
        "outputId": "82ea1334-51c6-4529-ecbe-b0d328dcc92a"
      },
      "outputs": [
        {
          "output_type": "stream",
          "name": "stdout",
          "text": [
            "Cloning into 'automate-jplag'...\n",
            "remote: Enumerating objects: 156, done.\u001b[K\n",
            "remote: Counting objects: 100% (156/156), done.\u001b[K\n",
            "remote: Compressing objects: 100% (134/134), done.\u001b[K\n",
            "remote: Total 156 (delta 101), reused 71 (delta 22), pack-reused 0 (from 0)\u001b[K\n",
            "Receiving objects: 100% (156/156), 22.89 KiB | 1.76 MiB/s, done.\n",
            "Resolving deltas: 100% (101/101), done.\n",
            "/content/automate-jplag\n"
          ]
        }
      ],
      "source": [
        "# Clone the repository\n",
        "!git clone https://github.com/abetrack3/automate-jplag.git\n",
        "\n",
        "# Navigate to the repository directory (optional)\n",
        "%cd automate-jplag"
      ]
    },
    {
      "cell_type": "code",
      "source": [
        "%cd /content"
      ],
      "metadata": {
        "colab": {
          "base_uri": "https://localhost:8080/"
        },
        "id": "Dv5MAp2DW9oF",
        "outputId": "4ad3c344-7c11-4ced-a762-06ddec143842"
      },
      "execution_count": 2,
      "outputs": [
        {
          "output_type": "stream",
          "name": "stdout",
          "text": [
            "/content\n"
          ]
        }
      ]
    },
    {
      "cell_type": "code",
      "source": [
        "%cd /content/automate-jlpag"
      ],
      "metadata": {
        "colab": {
          "base_uri": "https://localhost:8080/"
        },
        "id": "XxAK0Vg6XuEy",
        "outputId": "1f6e5d61-f726-4fe6-8ccd-99ac3b9cde01"
      },
      "execution_count": 4,
      "outputs": [
        {
          "output_type": "stream",
          "name": "stdout",
          "text": [
            "[Errno 2] No such file or directory: '/content/automate-jlpag'\n",
            "/content\n"
          ]
        }
      ]
    },
    {
      "cell_type": "code",
      "source": [
        "!pip install requests tqdm nbconvert ipython patool pandas openpyxl"
      ],
      "metadata": {
        "colab": {
          "base_uri": "https://localhost:8080/"
        },
        "id": "M4_iZRlMYKhU",
        "outputId": "7ac4e587-402e-4fe7-9cbb-cfc4461dd306"
      },
      "execution_count": 8,
      "outputs": [
        {
          "output_type": "stream",
          "name": "stdout",
          "text": [
            "Requirement already satisfied: requests in /usr/local/lib/python3.11/dist-packages (2.32.3)\n",
            "Requirement already satisfied: tqdm in /usr/local/lib/python3.11/dist-packages (4.67.1)\n",
            "Requirement already satisfied: nbconvert in /usr/local/lib/python3.11/dist-packages (7.16.5)\n",
            "Requirement already satisfied: ipython in /usr/local/lib/python3.11/dist-packages (7.34.0)\n",
            "Collecting patool\n",
            "  Downloading patool-3.1.0-py2.py3-none-any.whl.metadata (4.3 kB)\n",
            "Requirement already satisfied: pandas in /usr/local/lib/python3.11/dist-packages (2.2.2)\n",
            "Requirement already satisfied: openpyxl in /usr/local/lib/python3.11/dist-packages (3.1.5)\n",
            "Requirement already satisfied: charset-normalizer<4,>=2 in /usr/local/lib/python3.11/dist-packages (from requests) (3.4.1)\n",
            "Requirement already satisfied: idna<4,>=2.5 in /usr/local/lib/python3.11/dist-packages (from requests) (3.10)\n",
            "Requirement already satisfied: urllib3<3,>=1.21.1 in /usr/local/lib/python3.11/dist-packages (from requests) (2.3.0)\n",
            "Requirement already satisfied: certifi>=2017.4.17 in /usr/local/lib/python3.11/dist-packages (from requests) (2024.12.14)\n",
            "Requirement already satisfied: beautifulsoup4 in /usr/local/lib/python3.11/dist-packages (from nbconvert) (4.12.3)\n",
            "Requirement already satisfied: bleach!=5.0.0 in /usr/local/lib/python3.11/dist-packages (from bleach[css]!=5.0.0->nbconvert) (6.2.0)\n",
            "Requirement already satisfied: defusedxml in /usr/local/lib/python3.11/dist-packages (from nbconvert) (0.7.1)\n",
            "Requirement already satisfied: jinja2>=3.0 in /usr/local/lib/python3.11/dist-packages (from nbconvert) (3.1.5)\n",
            "Requirement already satisfied: jupyter-core>=4.7 in /usr/local/lib/python3.11/dist-packages (from nbconvert) (5.7.2)\n",
            "Requirement already satisfied: jupyterlab-pygments in /usr/local/lib/python3.11/dist-packages (from nbconvert) (0.3.0)\n",
            "Requirement already satisfied: markupsafe>=2.0 in /usr/local/lib/python3.11/dist-packages (from nbconvert) (3.0.2)\n",
            "Requirement already satisfied: mistune<4,>=2.0.3 in /usr/local/lib/python3.11/dist-packages (from nbconvert) (3.1.0)\n",
            "Requirement already satisfied: nbclient>=0.5.0 in /usr/local/lib/python3.11/dist-packages (from nbconvert) (0.10.2)\n",
            "Requirement already satisfied: nbformat>=5.7 in /usr/local/lib/python3.11/dist-packages (from nbconvert) (5.10.4)\n",
            "Requirement already satisfied: packaging in /usr/local/lib/python3.11/dist-packages (from nbconvert) (24.2)\n",
            "Requirement already satisfied: pandocfilters>=1.4.1 in /usr/local/lib/python3.11/dist-packages (from nbconvert) (1.5.1)\n",
            "Requirement already satisfied: pygments>=2.4.1 in /usr/local/lib/python3.11/dist-packages (from nbconvert) (2.18.0)\n",
            "Requirement already satisfied: traitlets>=5.1 in /usr/local/lib/python3.11/dist-packages (from nbconvert) (5.7.1)\n",
            "Requirement already satisfied: setuptools>=18.5 in /usr/local/lib/python3.11/dist-packages (from ipython) (75.1.0)\n",
            "Collecting jedi>=0.16 (from ipython)\n",
            "  Downloading jedi-0.19.2-py2.py3-none-any.whl.metadata (22 kB)\n",
            "Requirement already satisfied: decorator in /usr/local/lib/python3.11/dist-packages (from ipython) (4.4.2)\n",
            "Requirement already satisfied: pickleshare in /usr/local/lib/python3.11/dist-packages (from ipython) (0.7.5)\n",
            "Requirement already satisfied: prompt-toolkit!=3.0.0,!=3.0.1,<3.1.0,>=2.0.0 in /usr/local/lib/python3.11/dist-packages (from ipython) (3.0.48)\n",
            "Requirement already satisfied: backcall in /usr/local/lib/python3.11/dist-packages (from ipython) (0.2.0)\n",
            "Requirement already satisfied: matplotlib-inline in /usr/local/lib/python3.11/dist-packages (from ipython) (0.1.7)\n",
            "Requirement already satisfied: pexpect>4.3 in /usr/local/lib/python3.11/dist-packages (from ipython) (4.9.0)\n",
            "Requirement already satisfied: numpy>=1.23.2 in /usr/local/lib/python3.11/dist-packages (from pandas) (1.26.4)\n",
            "Requirement already satisfied: python-dateutil>=2.8.2 in /usr/local/lib/python3.11/dist-packages (from pandas) (2.8.2)\n",
            "Requirement already satisfied: pytz>=2020.1 in /usr/local/lib/python3.11/dist-packages (from pandas) (2024.2)\n",
            "Requirement already satisfied: tzdata>=2022.7 in /usr/local/lib/python3.11/dist-packages (from pandas) (2024.2)\n",
            "Requirement already satisfied: et-xmlfile in /usr/local/lib/python3.11/dist-packages (from openpyxl) (2.0.0)\n",
            "Requirement already satisfied: webencodings in /usr/local/lib/python3.11/dist-packages (from bleach!=5.0.0->bleach[css]!=5.0.0->nbconvert) (0.5.1)\n",
            "Requirement already satisfied: tinycss2<1.5,>=1.1.0 in /usr/local/lib/python3.11/dist-packages (from bleach[css]!=5.0.0->nbconvert) (1.4.0)\n",
            "Requirement already satisfied: parso<0.9.0,>=0.8.4 in /usr/local/lib/python3.11/dist-packages (from jedi>=0.16->ipython) (0.8.4)\n",
            "Requirement already satisfied: platformdirs>=2.5 in /usr/local/lib/python3.11/dist-packages (from jupyter-core>=4.7->nbconvert) (4.3.6)\n",
            "Requirement already satisfied: jupyter-client>=6.1.12 in /usr/local/lib/python3.11/dist-packages (from nbclient>=0.5.0->nbconvert) (6.1.12)\n",
            "Requirement already satisfied: fastjsonschema>=2.15 in /usr/local/lib/python3.11/dist-packages (from nbformat>=5.7->nbconvert) (2.21.1)\n",
            "Requirement already satisfied: jsonschema>=2.6 in /usr/local/lib/python3.11/dist-packages (from nbformat>=5.7->nbconvert) (4.23.0)\n",
            "Requirement already satisfied: ptyprocess>=0.5 in /usr/local/lib/python3.11/dist-packages (from pexpect>4.3->ipython) (0.7.0)\n",
            "Requirement already satisfied: wcwidth in /usr/local/lib/python3.11/dist-packages (from prompt-toolkit!=3.0.0,!=3.0.1,<3.1.0,>=2.0.0->ipython) (0.2.13)\n",
            "Requirement already satisfied: six>=1.5 in /usr/local/lib/python3.11/dist-packages (from python-dateutil>=2.8.2->pandas) (1.17.0)\n",
            "Requirement already satisfied: soupsieve>1.2 in /usr/local/lib/python3.11/dist-packages (from beautifulsoup4->nbconvert) (2.6)\n",
            "Requirement already satisfied: attrs>=22.2.0 in /usr/local/lib/python3.11/dist-packages (from jsonschema>=2.6->nbformat>=5.7->nbconvert) (24.3.0)\n",
            "Requirement already satisfied: jsonschema-specifications>=2023.03.6 in /usr/local/lib/python3.11/dist-packages (from jsonschema>=2.6->nbformat>=5.7->nbconvert) (2024.10.1)\n",
            "Requirement already satisfied: referencing>=0.28.4 in /usr/local/lib/python3.11/dist-packages (from jsonschema>=2.6->nbformat>=5.7->nbconvert) (0.35.1)\n",
            "Requirement already satisfied: rpds-py>=0.7.1 in /usr/local/lib/python3.11/dist-packages (from jsonschema>=2.6->nbformat>=5.7->nbconvert) (0.22.3)\n",
            "Requirement already satisfied: pyzmq>=13 in /usr/local/lib/python3.11/dist-packages (from jupyter-client>=6.1.12->nbclient>=0.5.0->nbconvert) (24.0.1)\n",
            "Requirement already satisfied: tornado>=4.1 in /usr/local/lib/python3.11/dist-packages (from jupyter-client>=6.1.12->nbclient>=0.5.0->nbconvert) (6.3.3)\n",
            "Downloading patool-3.1.0-py2.py3-none-any.whl (98 kB)\n",
            "\u001b[2K   \u001b[90m━━━━━━━━━━━━━━━━━━━━━━━━━━━━━━━━━━━━━━━━\u001b[0m \u001b[32m98.4/98.4 kB\u001b[0m \u001b[31m2.4 MB/s\u001b[0m eta \u001b[36m0:00:00\u001b[0m\n",
            "\u001b[?25hDownloading jedi-0.19.2-py2.py3-none-any.whl (1.6 MB)\n",
            "\u001b[2K   \u001b[90m━━━━━━━━━━━━━━━━━━━━━━━━━━━━━━━━━━━━━━━━\u001b[0m \u001b[32m1.6/1.6 MB\u001b[0m \u001b[31m26.3 MB/s\u001b[0m eta \u001b[36m0:00:00\u001b[0m\n",
            "\u001b[?25hInstalling collected packages: patool, jedi\n",
            "Successfully installed jedi-0.19.2 patool-3.1.0\n"
          ]
        }
      ]
    },
    {
      "cell_type": "code",
      "source": [
        "!java -version"
      ],
      "metadata": {
        "colab": {
          "base_uri": "https://localhost:8080/"
        },
        "id": "1p1RRr9lYjEY",
        "outputId": "53320b29-8c8b-4f4c-d6e6-f4d26dde394a"
      },
      "execution_count": 11,
      "outputs": [
        {
          "output_type": "stream",
          "name": "stdout",
          "text": [
            "openjdk version \"11.0.25\" 2024-10-15\n",
            "OpenJDK Runtime Environment (build 11.0.25+9-post-Ubuntu-1ubuntu122.04)\n",
            "OpenJDK 64-Bit Server VM (build 11.0.25+9-post-Ubuntu-1ubuntu122.04, mixed mode, sharing)\n"
          ]
        }
      ]
    },
    {
      "source": [
        "!apt-get install openjdk-17-jdk-headless -qq > /dev/null"
      ],
      "cell_type": "code",
      "metadata": {
        "id": "CjQlpqe_aT1L"
      },
      "execution_count": 13,
      "outputs": []
    },
    {
      "source": [
        "import os\n",
        "os.environ[\"JAVA_HOME\"] = \"/usr/lib/jvm/java-17-openjdk-amd64\""
      ],
      "cell_type": "code",
      "metadata": {
        "id": "VwI3XwLaaZWS"
      },
      "execution_count": 15,
      "outputs": []
    },
    {
      "cell_type": "code",
      "source": [
        "import sys\n",
        "sys.path.append('/content/automate-jplag')  # Replace with the path to your cloned repository"
      ],
      "metadata": {
        "id": "mpHzTHzoe5ce"
      },
      "execution_count": 23,
      "outputs": []
    },
    {
      "cell_type": "code",
      "source": [
        "import os\n",
        "import shutil\n",
        "\n",
        "# Path to the folder with raw .java files\n",
        "raw_files_path = '/content/drive/MyDrive/Plagiarism_Detector/JPlag/C++'\n",
        "organized_path = '/content/drive/MyDrive/Plagiarism_Detector/JPlag/OrganizedC++'\n",
        "\n",
        "os.makedirs(organized_path, exist_ok=True)\n",
        "\n",
        "# Organize each file into its own folder (using filename as folder name)\n",
        "for java_file in os.listdir(raw_files_path):\n",
        "    if java_file.endswith('.java'):\n",
        "        student_folder = os.path.join(organized_path, os.path.splitext(java_file)[0])\n",
        "        os.makedirs(student_folder, exist_ok=True)\n",
        "        shutil.move(os.path.join(raw_files_path, java_file), student_folder)"
      ],
      "metadata": {
        "id": "An7g8V7fh2Pf"
      },
      "execution_count": 28,
      "outputs": []
    },
    {
      "cell_type": "code",
      "source": [
        "import os, sys\n",
        "from argparse import ArgumentParser\n",
        "from app.cleanup import remove_generated_artifacts\n",
        "from app.decorators import timeit\n",
        "from app.excel_report_generator import generate_excel_report\n",
        "from app.jplag_utility import check_java_environment, check_jplag_jar_exists, download_jplag_jar, run_jplag_jar\n",
        "from app.merge_files import merge_each_student_suibmissions\n",
        "from app.notebook_to_script_converter import batch_convert_ipynb_to_py\n",
        "from app.unzip_files import extract_zip_and_rar_files\n",
        "\n",
        "\n",
        "\n",
        "# Define Constants\n",
        "REQUIRED_JAVA_VERSION: int = 17\n",
        "UNZIPPED_FILES_FOLDER: str = 'UNZIPPED'\n",
        "CONVERTED_FILES_FOLDER: str = 'CONVERTED'\n",
        "JPLAG_SCANNABLE_FOLDER: str = 'JPLAG SCANNABLE'\n",
        "\n",
        "\n",
        "\n",
        "@timeit\n",
        "def __main__() -> None:\n",
        "\n",
        "\n",
        "    try:\n",
        "\n",
        "        SUBMISSION_SOURCE_FOLDER_NAME = '/content/drive/MyDrive/Plagiarism_Detector/JPlag/OrganizedC++'\n",
        "\n",
        "\n",
        "        # Removing any residual files from previous runs\n",
        "        remove_generated_artifacts()\n",
        "\n",
        "\n",
        "        # check whether the submission exists or not\n",
        "        if os.path.exists(SUBMISSION_SOURCE_FOLDER_NAME) is not True:\n",
        "            print(f'The given directory is not found: \"{SUBMISSION_SOURCE_FOLDER_NAME}\"')\n",
        "            sys.exit(1)\n",
        "\n",
        "\n",
        "        # check whether java is installed or not\n",
        "        current_java_version: int = check_java_environment()\n",
        "\n",
        "        if current_java_version == -1:\n",
        "\n",
        "            sys.exit(1)\n",
        "\n",
        "\n",
        "        # check minimum java version\n",
        "        if current_java_version < REQUIRED_JAVA_VERSION:\n",
        "\n",
        "            print(f'Current java version is {current_java_version}. Required Java version is {REQUIRED_JAVA_VERSION}')\n",
        "\n",
        "            sys.exit(1)\n",
        "\n",
        "\n",
        "        # Check for JPlag, download if needed\n",
        "        if check_jplag_jar_exists() is False:\n",
        "\n",
        "            print('JPlag not found')\n",
        "\n",
        "            download_jplag_jar()\n",
        "\n",
        "        else:\n",
        "\n",
        "            print('JPlag already downloaded')\n",
        "\n",
        "\n",
        "        # unzipping each students' submission files\n",
        "        # extract_zip_and_rar_files(SUBMISSION_SOURCE_FOLDER_NAME, UNZIPPED_FILES_FOLDER)\n",
        "\n",
        "\n",
        "        # Convert any IPython NoteBook Files in plain pure python script\n",
        "        batch_convert_ipynb_to_py(SUBMISSION_SOURCE_FOLDER_NAME, CONVERTED_FILES_FOLDER)\n",
        "\n",
        "\n",
        "        # If students are submitting multiple files in a zip format then we need to merge those code files into a single file for each student\n",
        "        merge_each_student_suibmissions(CONVERTED_FILES_FOLDER, JPLAG_SCANNABLE_FOLDER)\n",
        "\n",
        "\n",
        "        # Run JPlag and generate plagiarism report\n",
        "        run_jplag_jar(JPLAG_SCANNABLE_FOLDER)\n",
        "\n",
        "\n",
        "        # Generate Human Readable Excel Report\n",
        "        generate_excel_report()\n",
        "\n",
        "\n",
        "    except KeyboardInterrupt:\n",
        "\n",
        "        pass\n",
        "\n",
        "    finally:\n",
        "\n",
        "        # Removing any residual files from current runs\n",
        "        remove_generated_artifacts(exclude_result_artifacts=True)\n",
        "\n",
        "\n",
        "\n",
        "if __name__ == '__main__':\n",
        "    __main__()"
      ],
      "metadata": {
        "colab": {
          "base_uri": "https://localhost:8080/",
          "height": 503
        },
        "id": "w_DAdjZlbdJj",
        "outputId": "4ce2246c-be53-490a-d482-fd6aa6274567"
      },
      "execution_count": 29,
      "outputs": [
        {
          "output_type": "stream",
          "name": "stdout",
          "text": [
            "Program Start: 01/22/2025, 10:26:49\n",
            "\n",
            "\n",
            "Removing artifacts\n",
            "Java is installed. Version: 17.0\n",
            "JPlag already downloaded\n",
            "\n",
            "Starting Notebook conversions...\n",
            "\n",
            "2025-01-22-10:26:50_881 [main] [INFO] LanguageLoader - Available languages: '[C/C++ Scanner [basic markup], C/C++ Parser, C# 6 Parser, EMF metamodel, Go Parser, Javac based AST plugin, Kotlin Parser, Python3 Parser, R Parser, Rust Language Module, Scala parser, SchemeR4RS Parser [basic markup], Swift Parser, Text Parser (naive)]'\n",
            "2025-01-22-10:26:50_941 [main] [INFO] ParallelComparisonStrategy - Start comparing...\n",
            "2025-01-22-10:26:50_946 [main] [WARN] SubmissionSet - No submissions to parse!\n",
            "2025-01-22-10:26:50_987 [main] [INFO] CLI - Summary of all Errors:\n",
            "2025-01-22-10:26:50_956 [main] [ERROR] CLI - Not enough valid submissions! (found 0 valid submissions)\n",
            "JPlag execution failed\n",
            "\n",
            "\n",
            "Removing artifacts\n",
            "Removed: CONVERTED\n",
            "Removed: JPLAG SCANNABLE\n"
          ]
        },
        {
          "output_type": "error",
          "ename": "SystemExit",
          "evalue": "1",
          "traceback": [
            "An exception has occurred, use %tb to see the full traceback.\n",
            "\u001b[0;31mSystemExit\u001b[0m\u001b[0;31m:\u001b[0m 1\n"
          ]
        },
        {
          "output_type": "stream",
          "name": "stderr",
          "text": [
            "/usr/local/lib/python3.11/dist-packages/IPython/core/interactiveshell.py:3561: UserWarning: To exit: use 'exit', 'quit', or Ctrl-D.\n",
            "  warn(\"To exit: use 'exit', 'quit', or Ctrl-D.\", stacklevel=1)\n"
          ]
        }
      ]
    },
    {
      "cell_type": "markdown",
      "source": [
        "Debug JPLag"
      ],
      "metadata": {
        "id": "7GtoD97gj3Sw"
      }
    },
    {
      "cell_type": "code",
      "source": [
        "import os\n",
        "\n",
        "base_path = '/content/drive/MyDrive/Plagiarism_Detector/JPlag/Java'\n",
        "\n",
        "for root, dirs, files in os.walk(base_path):\n",
        "    print(f\"Directory: {root}\")\n",
        "    for file in files:\n",
        "        print(f\"  File: {file}\")"
      ],
      "metadata": {
        "colab": {
          "base_uri": "https://localhost:8080/"
        },
        "id": "GY89ddmQj481",
        "outputId": "811dffb9-e728-4293-b5be-813044eb03d9"
      },
      "execution_count": 30,
      "outputs": [
        {
          "output_type": "stream",
          "name": "stdout",
          "text": [
            "Directory: /content/drive/MyDrive/Plagiarism_Detector/JPlag/Java\n"
          ]
        }
      ]
    },
    {
      "cell_type": "code",
      "source": [
        "import os\n",
        "\n",
        "base_path = '/content/drive/MyDrive/Plagiarism_Detector/JPlag/Java'\n",
        "\n",
        "for folder in os.listdir(base_path):\n",
        "    folder_path = os.path.join(base_path, folder)\n",
        "    if os.path.isdir(folder_path) and not os.listdir(folder_path):\n",
        "        print(f\"Removing empty folder: {folder_path}\")\n",
        "        os.rmdir(folder_path)"
      ],
      "metadata": {
        "id": "7WPAYMaoj6js"
      },
      "execution_count": 31,
      "outputs": []
    },
    {
      "cell_type": "code",
      "source": [
        "import os\n",
        "\n",
        "base_path = '/content/drive/MyDrive/Plagiarism_Detector/JPlag/Java'\n",
        "\n",
        "for folder in os.listdir(base_path):\n",
        "    folder_path = os.path.join(base_path, folder)\n",
        "    if os.path.isdir(folder_path):\n",
        "        for file in os.listdir(folder_path):\n",
        "            if not file.endswith('.java'):\n",
        "                print(f\"Skipping unsupported file: {file}\")"
      ],
      "metadata": {
        "id": "dwdfGN9Fj-JY"
      },
      "execution_count": 32,
      "outputs": []
    }
  ]
}